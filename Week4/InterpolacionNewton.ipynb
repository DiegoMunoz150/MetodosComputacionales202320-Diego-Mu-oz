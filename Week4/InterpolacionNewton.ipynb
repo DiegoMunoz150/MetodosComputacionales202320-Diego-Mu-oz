{
 "cells": [
  {
   "cell_type": "code",
   "execution_count": 1,
   "id": "90e7cd04",
   "metadata": {},
   "outputs": [],
   "source": [
    "import numpy as np\n",
    "import matplotlib.pyplot as plt\n",
    "import pandas as pd\n",
    "import sympy as sym\n",
    "\n",
    "import os\n",
    "import os.path as path\n",
    "import wget"
   ]
  },
  {
   "cell_type": "code",
   "execution_count": 2,
   "id": "2e5eedd8",
   "metadata": {},
   "outputs": [],
   "source": [
    "X = np.array([-1.,0.,1.])\n",
    "Y = np.array([2,0,2])"
   ]
  },
  {
   "cell_type": "code",
   "execution_count": 6,
   "id": "5d712a64",
   "metadata": {},
   "outputs": [
    {
     "name": "stdout",
     "output_type": "stream",
     "text": [
      "-2.0 2.0\n"
     ]
    }
   ],
   "source": [
    "f1 = (Y[1]-Y[0])/(X[1]-X[0])\n",
    "f2 = (Y[2]-Y[1])/(X[2]-X[1])\n",
    "print(f1,f2)"
   ]
  },
  {
   "cell_type": "code",
   "execution_count": 7,
   "id": "bcff6bae",
   "metadata": {},
   "outputs": [
    {
     "name": "stdout",
     "output_type": "stream",
     "text": [
      "2.0\n"
     ]
    }
   ],
   "source": [
    "d2f = (f2-f1)/(X[2]-X[0])\n",
    "print(d2f)"
   ]
  },
  {
   "cell_type": "code",
   "execution_count": 8,
   "id": "adb6d864",
   "metadata": {},
   "outputs": [],
   "source": [
    "x = np.linspace(-1,1,50)\n",
    "y = Y[0] + f1*(x-X[0]) + d2f*(x-X[0])*(x-X[1])"
   ]
  },
  {
   "cell_type": "code",
   "execution_count": 10,
   "id": "c21f0402",
   "metadata": {},
   "outputs": [
    {
     "data": {
      "text/plain": [
       "[<matplotlib.lines.Line2D at 0x7f917446bca0>]"
      ]
     },
     "execution_count": 10,
     "metadata": {},
     "output_type": "execute_result"
    },
    {
     "data": {
      "image/png": "[encoded data removed]",
      "text/plain": [
       "<Figure size 432x288 with 1 Axes>"
      ]
     },
     "metadata": {
      "needs_background": "light"
     },
     "output_type": "display_data"
    }
   ],
   "source": [
    "plt.scatter(X,Y,color='r')\n",
    "plt.plot(x,y)"
   ]
  },
  {
   "cell_type": "code",
   "execution_count": null,
   "id": "900e4011",
   "metadata": {},
   "outputs": [],
   "source": []
  },
  {
   "cell_type": "code",
   "execution_count": 2,
   "id": "3020a458",
   "metadata": {},
   "outputs": [],
   "source": [
    "file = 'Data/InterpolacionNewton.dat'\n",
    "url = 'https://raw.githubusercontent.com/asegura4488/Database/main/MetodosComputacionalesReforma/InterpolacionNewton.csv'"
   ]
  },
  {
   "cell_type": "code",
   "execution_count": null,
   "id": "60841b5f",
   "metadata": {},
   "outputs": [],
   "source": []
  }
 ],
 "metadata": {
  "kernelspec": {
   "display_name": "Python 3 (ipykernel)",
   "language": "python",
   "name": "python3"
  },
  "language_info": {
   "codemirror_mode": {
    "name": "ipython",
    "version": 3
   },
   "file_extension": ".py",
   "mimetype": "text/x-python",
   "name": "python",
   "nbconvert_exporter": "python",
   "pygments_lexer": "ipython3",
   "version": "3.9.12"
  }
 },
 "nbformat": 4,
 "nbformat_minor": 5
}
